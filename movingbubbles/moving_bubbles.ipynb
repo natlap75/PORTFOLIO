{
 "cells": [
  {
   "cell_type": "code",
   "execution_count": 1,
   "metadata": {},
   "outputs": [],
   "source": [
    "import d3blocks\n",
    "from d3blocks import D3Blocks\n",
    "import pandas as pd"
   ]
  },
  {
   "cell_type": "code",
   "execution_count": 2,
   "metadata": {},
   "outputs": [],
   "source": [
    "# remove warnings\n",
    "import warnings\n",
    "warnings.filterwarnings('ignore')"
   ]
  },
  {
   "cell_type": "code",
   "execution_count": 3,
   "metadata": {},
   "outputs": [
    {
     "name": "stdout",
     "output_type": "stream",
     "text": [
      "<class 'pandas.core.frame.DataFrame'>\n",
      "RangeIndex: 750 entries, 0 to 749\n",
      "Data columns (total 4 columns):\n",
      " #   Column       Non-Null Count  Dtype \n",
      "---  ------       --------------  ----- \n",
      " 0   Date         750 non-null    object\n",
      " 1   Time         750 non-null    object\n",
      " 2   sample_id    750 non-null    object\n",
      " 3   Destination  750 non-null    object\n",
      "dtypes: object(4)\n",
      "memory usage: 23.6+ KB\n"
     ]
    }
   ],
   "source": [
    "schedule = pd.read_csv('schedule.csv', delimiter=';')\n",
    "schedule.info()"
   ]
  },
  {
   "cell_type": "code",
   "execution_count": 4,
   "metadata": {},
   "outputs": [
    {
     "name": "stdout",
     "output_type": "stream",
     "text": [
      "               DateTime       sample_id     Destination\n",
      "0   2024-01-14 09:00:00          MSC_01        Shanghai\n",
      "1   2024-01-15 02:30:00          MSC_03        Shanghai\n",
      "2   2024-01-15 16:00:00          MSC_06       Singapore\n",
      "3   2024-01-16 23:00:00          MSC_07        Shanghai\n",
      "4   2024-01-17 15:00:00          MSC_02       Rotterdam\n",
      "..                  ...             ...             ...\n",
      "745 2024-03-28 23:00:00  Hapag Lloyd_01  Rio de Janeiro\n",
      "746 2024-03-31 23:00:00  Hapag Lloyd_01          Bergen\n",
      "747 2024-04-01 00:00:00  Hapag Lloyd_09     Southampton\n",
      "748 2024-04-05 23:00:00  Hapag Lloyd_02          Manila\n",
      "749 2024-04-08 02:00:00  Hapag Lloyd_01  Rio de Janeiro\n",
      "\n",
      "[750 rows x 3 columns]\n"
     ]
    }
   ],
   "source": [
    "schedule['DateTime'] = pd.to_datetime(schedule['Date'] + ' ' + schedule['Time'], format='%Y-%m-%d %H.%M.%S')\n",
    "# Drop the original 'Date' and 'Time' columns if needed\n",
    "schedule = schedule.drop(['Date', 'Time'], axis=1)\n",
    "\n",
    "schedule = schedule[['DateTime', 'sample_id', 'Destination']]\n",
    "# Display the updated DataFrame\n",
    "print(schedule)"
   ]
  },
  {
   "cell_type": "code",
   "execution_count": 5,
   "metadata": {},
   "outputs": [
    {
     "name": "stdout",
     "output_type": "stream",
     "text": [
      "<class 'pandas.core.frame.DataFrame'>\n",
      "RangeIndex: 750 entries, 0 to 749\n",
      "Data columns (total 3 columns):\n",
      " #   Column       Non-Null Count  Dtype         \n",
      "---  ------       --------------  -----         \n",
      " 0   DateTime     750 non-null    datetime64[ns]\n",
      " 1   sample_id    750 non-null    object        \n",
      " 2   Destination  750 non-null    object        \n",
      "dtypes: datetime64[ns](1), object(2)\n",
      "memory usage: 17.7+ KB\n"
     ]
    }
   ],
   "source": [
    "schedule.info()"
   ]
  },
  {
   "cell_type": "code",
   "execution_count": 6,
   "metadata": {},
   "outputs": [
    {
     "data": {
      "text/html": [
       "<div>\n",
       "<style scoped>\n",
       "    .dataframe tbody tr th:only-of-type {\n",
       "        vertical-align: middle;\n",
       "    }\n",
       "\n",
       "    .dataframe tbody tr th {\n",
       "        vertical-align: top;\n",
       "    }\n",
       "\n",
       "    .dataframe thead th {\n",
       "        text-align: right;\n",
       "    }\n",
       "</style>\n",
       "<table border=\"1\" class=\"dataframe\">\n",
       "  <thead>\n",
       "    <tr style=\"text-align: right;\">\n",
       "      <th></th>\n",
       "      <th>DateTime</th>\n",
       "      <th>sample_id</th>\n",
       "      <th>Destination</th>\n",
       "    </tr>\n",
       "  </thead>\n",
       "  <tbody>\n",
       "    <tr>\n",
       "      <th>0</th>\n",
       "      <td>2024-01-14 09:00:00</td>\n",
       "      <td>MSC_01</td>\n",
       "      <td>Shanghai</td>\n",
       "    </tr>\n",
       "    <tr>\n",
       "      <th>1</th>\n",
       "      <td>2024-01-15 02:30:00</td>\n",
       "      <td>MSC_03</td>\n",
       "      <td>Shanghai</td>\n",
       "    </tr>\n",
       "    <tr>\n",
       "      <th>2</th>\n",
       "      <td>2024-01-15 16:00:00</td>\n",
       "      <td>MSC_06</td>\n",
       "      <td>Singapore</td>\n",
       "    </tr>\n",
       "  </tbody>\n",
       "</table>\n",
       "</div>"
      ],
      "text/plain": [
       "             DateTime sample_id Destination\n",
       "0 2024-01-14 09:00:00    MSC_01    Shanghai\n",
       "1 2024-01-15 02:30:00    MSC_03    Shanghai\n",
       "2 2024-01-15 16:00:00    MSC_06   Singapore"
      ]
     },
     "execution_count": 6,
     "metadata": {},
     "output_type": "execute_result"
    }
   ],
   "source": [
    "schedule.head(3)"
   ]
  },
  {
   "cell_type": "code",
   "execution_count": 7,
   "metadata": {},
   "outputs": [
    {
     "data": {
      "text/plain": [
       "310    CMA CGM_01\n",
       "420    CMA CGM_01\n",
       "442    CMA CGM_01\n",
       "304    CMA CGM_01\n",
       "353    CMA CGM_01\n",
       "          ...    \n",
       "185     Maersk_15\n",
       "172     Maersk_15\n",
       "180     Maersk_15\n",
       "193     Maersk_15\n",
       "197     Maersk_15\n",
       "Name: sample_id, Length: 750, dtype: object"
      ]
     },
     "execution_count": 7,
     "metadata": {},
     "output_type": "execute_result"
    }
   ],
   "source": [
    "schedule['sample_id'].sort_values()"
   ]
  },
  {
   "cell_type": "code",
   "execution_count": 8,
   "metadata": {},
   "outputs": [
    {
     "name": "stderr",
     "output_type": "stream",
     "text": [
      "[d3blocks] >INFO> Cleaning edge_properties and config parameters..\n",
      "[d3blocks] >INFO> Cleaning edge_properties and config parameters..\n",
      "[d3blocks] >INFO> Initializing [Movingbubbles]\n",
      "[d3blocks] >INFO> filepath is set to [/Users/natlap/Desktop/TAITOTALO/DATA-A/OWN_PROJECT/movingbubbles/schedule.html]\n",
      "[d3blocks] >INFO> Convert to DataFrame.\n",
      "[d3blocks] >INFO> Node properties are set.\n",
      "[d3blocks] >INFO> Standardizing input dataframe using method: [samplewise].\n",
      "[d3blocks] >INFO> Standardize method: [samplewise]\n",
      "100%|██████████| 75/75 [00:00<00:00, 2631.48it/s]\n",
      "[d3blocks] >INFO> Set all nodes to size: 5\n",
      "[d3blocks] >WARNING> Colormap [Set1] can not create [75] unique colors! Available unique colors: [9].\n",
      "[d3blocks] >INFO> Edge properties are set.\n",
      "[d3blocks] >INFO> File already exists and will be overwritten: [/Users/natlap/Desktop/TAITOTALO/DATA-A/OWN_PROJECT/movingbubbles/schedule.html]\n",
      "[d3blocks] >INFO> File not found: [file:////Users/natlap/Desktop/TAITOTALO/DATA-A/OWN_PROJECT/movingbubbles/schedule.html]\n",
      "[d3blocks] >INFO> Open browser: file:////Users/natlap/Desktop/TAITOTALO/DATA-A/OWN_PROJECT/movingbubbles/schedule.html\n"
     ]
    }
   ],
   "source": [
    "d3 = D3Blocks()\n",
    "\n",
    "d3.movingbubbles(schedule,\n",
    "    datetime='DateTime',\n",
    "    sample_id='sample_id',\n",
    "    state='Destination',\n",
    "    filepath='./schedule.html'\n",
    ")"
   ]
  }
 ],
 "metadata": {
  "kernelspec": {
   "display_name": "env",
   "language": "python",
   "name": "python3"
  },
  "language_info": {
   "codemirror_mode": {
    "name": "ipython",
    "version": 3
   },
   "file_extension": ".py",
   "mimetype": "text/x-python",
   "name": "python",
   "nbconvert_exporter": "python",
   "pygments_lexer": "ipython3",
   "version": "3.11.7"
  }
 },
 "nbformat": 4,
 "nbformat_minor": 2
}
