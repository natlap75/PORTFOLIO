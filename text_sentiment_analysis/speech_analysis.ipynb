{
 "cells": [
  {
   "cell_type": "markdown",
   "metadata": {},
   "source": [
    "## Decoding Emotions in Leadership: A Sentiment Analysis of Historical and Modern Icons' Speeches Using NLTK"
   ]
  },
  {
   "cell_type": "markdown",
   "metadata": {},
   "source": [
    "NLTK, or the Natural Language Toolkit, is a popular Python library used for working with human language data (natural language processing or NLP), providing tools for text processing and linguistic analysis. It's commonly used for tasks like tokenization, parsing, classification, and sentiment analysis in various language-related applications."
   ]
  },
  {
   "cell_type": "code",
   "execution_count": 127,
   "metadata": {},
   "outputs": [],
   "source": [
    "# python3 -m venv env \n",
    "# source env/bin/activate\n",
    "# pip freeze > requirements.txt\n",
    "\n",
    "# pip3 install -U nltk "
   ]
  },
  {
   "cell_type": "code",
   "execution_count": 128,
   "metadata": {},
   "outputs": [
    {
     "name": "stderr",
     "output_type": "stream",
     "text": [
      "[nltk_data] Downloading package stopwords to\n",
      "[nltk_data]     /Users/natlap/nltk_data...\n",
      "[nltk_data]   Package stopwords is already up-to-date!\n",
      "[nltk_data] Downloading package averaged_perceptron_tagger to\n",
      "[nltk_data]     /Users/natlap/nltk_data...\n",
      "[nltk_data]   Package averaged_perceptron_tagger is already up-to-\n",
      "[nltk_data]       date!\n"
     ]
    },
    {
     "data": {
      "text/plain": [
       "True"
      ]
     },
     "execution_count": 128,
     "metadata": {},
     "output_type": "execute_result"
    }
   ],
   "source": [
    "import nltk\n",
    "\n",
    "from nltk.corpus import stopwords\n",
    "nltk.download('stopwords')\n",
    "from nltk.stem import PorterStemmer\n",
    "nltk.download('averaged_perceptron_tagger')"
   ]
  },
  {
   "cell_type": "code",
   "execution_count": 129,
   "metadata": {},
   "outputs": [],
   "source": [
    "# Normally, lemmatization (the process of reducing a word to its base or dictionary form, known as the lemma) or stemming as a weaker alternative is essential; \n",
    "# however, without lemmatization due to technical issues, I trust the simplicity of English grammar \n",
    "# won't greatly impact our analysis results.\n",
    "\n",
    "# from nltk.stem import WordNetLemmatizer\n",
    "# from nltk.corpus import wordnet\n",
    "# nltk.download('wordnet', download_dir=nltk.data.path[0], force=True)"
   ]
  },
  {
   "cell_type": "markdown",
   "metadata": {},
   "source": [
    "### Data Preprocessing"
   ]
  },
  {
   "cell_type": "code",
   "execution_count": 130,
   "metadata": {},
   "outputs": [
    {
     "data": {
      "text/plain": [
       "'Your Majesties, Your Royal Highnesses, Excellencies,\\nDistinguished members of the Norwegian Nobel Committee, Dear Friends and Colleagues around the world,\\n\\nI feel both humility and gratitude at receiving this yearÕs Nobel Peace Prize. It is the greatest recognition anybody working in this field can be given.\\n\\nWhat I am feeling now can only be compared with the joy I have felt when seeing the changes that peace has brought to the lives of people. When people, who have endured wars and crises, begin to build their lives in an atmosphere of peace Ð When faith in the future returns.\\n\\nI too was a child affected by a war. I was only two years old when, as a result of an agreement on spheres of interest between HitlerÕs Germany and StalinÕs Soviet Union, war broke out, forcing my family to leave soon thereafter the town of Viipuri. Like several hundred thousand fellow Karelians, we became refugees in our own country as great power politics caused the borders of Finland to be redrawn and left my home town as part of the Soviet Union. This childhood experience contributed to my commitment to working on the resolution of conflicts.\\n\\n*****\\n\\nMediators do not choose the conflicts they became involved in but the parties to the conflict choose the mediator. Their participation as intermediaries is based on the trust of all the conflicting parties. The task of the mediator is to help the parties to open difficult issues and nudge them forward in the peace process. The mediatorÕs role combines those of a shipÕs pilot, consulting medical doctor, midwife and teacher.\\n\\nHowever, there tends to be too much focus on the mediators. With that we are disempowering the parties to the conflict and creating the wrong impression that peace comes from the outside. The only people that can make peace are the parties to the conflict, and just as they are responsible for the conflict and its consequences, so should they be given responsibility and recognition for the peace.\\n\\nThe process leading to Namibian independence was long and required strong commitment and determination from the Namibians. Namibia is also an excellent example of what the UN and its member states can achieve at their best. Today, looking back to those years, it feels almost unbelievable that we managed to get all the key actors, the Western five (US, UK, France, Germany and Canada), the Soviet Union, the Organisation of African Unity, (represented by the African front-line states), the South-African government and all the political parties in Namibia, including SWAPO, to work towards a shared goal. It also taught that a durable solution can only be found if one is also prepared to engage in discussions with your political opponents. I do believe that the experience from the Namibia operation encouraged the government of South Africa to begin the process of democratic change.\\n\\nThe peace process in Aceh showed how important it is that a countryÕs political leadership is committed to finding a solution to an internal conflict. Joint efforts by the political leadership in Indonesia and the Free Aceh Movement resulted in a peace agreement. However, it was only a start. Social and economic reforms can only progress if both negotiating parties and the population at large are committed to them in the long term. Work remains to be done in developing a national system that protects, sustains and improves the quality of life in Aceh.\\n\\nAll conflicts can be resolved\\n\\nWars and conflicts are not inevitable. They are caused by human beings. There are always interests that are furthered by war. Therefore those who have power and influence can also stop them.\\n\\nPeace is a question of will. All conflicts can be settled, and there are no excuses for allowing them to become eternal. It is simply intolerable that violent conflicts defy resolution for decades causing immeasurable human suffering, and preventing economic and social development. The passivity and impotence of the international community make it more difficult for us to place our faith in jointly built security structures. Despite the many challenges, even the most intractable conflicts can be resolved if the parties involved and the international community join forces and work together for a common aim. The United Nations provides the right framework for international peace efforts and solutions to global problems. However, we are all aware of the constraints of the United Nations and of the tendency of the member states to give it demanding assignments without providing adequate resources and political support. It is important that the UN member states work resolutely to strengthen the world organization. We cannot afford to lose the UN.\\n\\nIn a conflict, one party can always claim victory, but building peace must involve everybody: the weak and the powerful, the victors and the vanquished, men and women, young and old. However, peace negotiations are often conducted by a small elite. In the future we must be better able to achieve a broader participation in peace processes. Particularly, there is a need to ensure the engagement of women in all stages of a peace process.\\n\\nPeace processes and the agreements resulting from them end the violence. But the real work only starts after a peace agreement has been concluded. The agreements reached have to be implemented. Social and political change does not happen overnight, and the reconstruction and establishment of democracy demand patience. That requires a comprehensive approach to peacebuilding, and support for civil society.\\n\\nInequality breeds conflict\\n\\nGrowing inequality within countries and between regions deepens the existing cleavages. It is our task to create a future and hope for regions and countries in crisis where young people suffer from unemployment and have little prospects of improving their lives. Unless we can meet this challenge, new conflicts will flare up and we will lose another generation to war.\\n\\nThere has been a great deal of talk this year about the financial crisis. This financial crisis also highlights the importance of maintaining the commitment of the international community to development cooperation. The effects of this crisis may prove another major setback for the developing world. The very poorest people are already being hit hardest by the impact of climate change, rising food prices and lower levels of foreign trade. A reduction in foreign assistance and investment would be disastrous for badly needed economic growth. At this difficult time, I call on all governments to remain committed to their stated goals of eradicating poverty.\\n\\nWe must all be able to contribute to our own future and to the future of our communities. If the present trend continues, we will be faced with a situation where hundreds of millions of young people will be out of work in countries that are in early stages of development. If nothing is done, we will be creating an effective breeding ground for crime, instability and war as young people lose all hope. I believe that the fight against poverty is also the most effective measure of countering terrorism in the long term.\\n\\nI returned ten days ago from Liberia I came away with mixed feelings. First, a feeling of sadness at the scale of destruction that the war left in Liberia and the size of the challenge for the Government and the international community. Second, a degree of optimism that the people we met, can begin to make a real difference Ð but only if the international community can retain its commitment to Liberia over the long term.\\n\\nConflict settlement requires the injection of optimism and hope born from employment and economic opportunities. Otherwise, fragile peace agreements can rarely be sustained. Over the long term, only the private sector is capable of growing new enterprises, creating investment opportunities which provide employment and enduring economic security. Attracting private-sector investment into war-torn areas is not easy. It requires innovation. A mix of non-economic and economic incentives will have to be devised. Similarly, involvement of the private sector in the larger work of formulating strategies for post-war recovery will require innovative thinking.\\n\\nA solution must be found to the Middle East conflict\\n\\nThe most challenging peace-building project ahead of us is finding a solution to the conflicts in the Middle East, which have continued for decades. The tensions and wars in the region have been going on for so long that many have come to believe that the Middle East knot can never be untied.\\n\\nI do not share this belief. All crises, including the one in the Middle East, can be resolved. The solution would require a contribution from all the parties involved as well as the international community as a whole. We might be strengthened in our resolve if we set our sights on the future and imagine what the world could look like if the countries in the region could jointly begin to develop their economic potential, build transport links, make full use of their educated population and begin to reap the benefits of an advantageous location in the crossroads of three continents.\\n\\nI hope that the new President of the United States, who will be sworn in next month, will give high priority to the Middle East conflict during his first year in office. The European Union, Russia and the UN must also be seriously committed so that a solution can be found to the crises stretching from Israel and Palestine to Iraq and Iran. If we want to achieve lasting results, we must look at the whole region.\\n\\nThe credibility of the whole international community is at stake. We cannot go on, year after year, simply pretending to do something to help the situation in the Middle East. We must also get results.\\n\\nFor many people, tensions between religions have provided an easy explanation for the intractability of the Middle East crisis. I cannot accept this view. During my career I have seen many crises in which religion has been used as a weapon or as an instrument for prolonging the conflict. Religions themselves are, however, peace-loving. They can also be a constructive force in peace-building, and this also applies to the Middle East.\\n\\nPeace mediators do not work alone\\n\\nAll parties to the conflict play a key role in finding a peaceful solution and putting it into practice. Likewise, a single outside party is rarely able to play all the roles that are required for a peace process to succeed.\\n\\nAll my peace assignments have taught me that a peace process is largely a matter of cooperation and partnership between different actors, parties to a conflict, peace mediators, governments, the civic society and international organizations.\\n\\nEven though all eyes are often on the peace mediators, it is important to emphasize the role of the mediation teams and the other important actors outside the direct negotiation process itself. In my work I have always been in a privileged position to build up my own team, including my colleagues at the organization I founded after my Finnish Presidency, Crisis Management Initiative. I have had the opportunity to work with many highly qualified colleagues in different peace processes. Without them I would not be here today.\\n\\nI hope that all those brave women and men that have worked for the peace in their country would feel that they can share this prize with me.\\n\\nHowever, my biggest source of strength is my family. My wife Eeva and my son Marko have always been at my side. They have provided me with both support and constructive criticism. I offer them my heartfelt thanks.\\n\\nDear friends,\\n\\nI hope that this distinguished prize awarded to me will encourage individuals and organizations to continue their efforts for peace. I also hope that they will receive full support for their work in the future.\\n\\nIf we work together, we can find solutions. We should not accept any excuses from those in power. Peace is a question of will.\\n\\nThank you!'"
      ]
     },
     "execution_count": 130,
     "metadata": {},
     "output_type": "execute_result"
    }
   ],
   "source": [
    "# reading files\n",
    "with open('speeches/1940-Churchill.txt', 'r', encoding='Latin-1') as file:\n",
    "    churchill = file.read()\n",
    "with open('speeches/1941-Hitler.txt', 'r', encoding='Latin-1') as file:\n",
    "    hitler = file.read()\n",
    "with open('speeches/1963-Mandela.txt', 'r', encoding='Latin-1') as file:\n",
    "    mandela = file.read()\n",
    "with open('speeches/2007-Putin.txt', 'r', encoding='Latin-1') as file:\n",
    "    putin = file.read()\n",
    "with open('speeches/2008-Ahtisaari.txt', 'r', encoding='Latin-1') as file:\n",
    "    ahtisaari = file.read()\n",
    "with open('speeches/2017-Trump.txt', 'r', encoding='Latin-1') as file:\n",
    "    trump = file.read()\n",
    "with open('speeches/2022-Zelensky.txt', 'r', encoding='Latin-1') as file:\n",
    "    zelensky = file.read()\n",
    "ahtisaari"
   ]
  },
  {
   "cell_type": "code",
   "execution_count": 131,
   "metadata": {},
   "outputs": [
    {
     "name": "stdout",
     "output_type": "stream",
     "text": [
      "I Have a Dream\n",
      "\n",
      "I am happy to join with you today in what will go down in history as\n",
      "the greatest demonstration for freedom in the history of our nation\n",
      "\n",
      "Five score years ago a great American in whose symbolic shadow\n",
      "we stand today signed the Emancipation Proclamation This momentous\n",
      "decree came as a great beacon light of hope to millions of Negro slaves\n",
      "who had been seared in the flames of withering injustice It came as a\n",
      "joyous daybreak to end the long night of their captivity\n",
      "\n",
      "But 100 years later the Negro still is not free One hundred years\n",
      "later the life of the Negro is still sadly crippled by the manacles of\n",
      "segregation and the chains of discrimination One hundred years later the\n",
      "Negro lives on a lonely island of poverty in the midst of a vast ocean of\n",
      "material prosperity One hundred years later the Negro is still languished\n",
      "in the corners of American society and finds himself an exile in his own\n",
      "land And so weve come here today to dramatize a shameful condition\n",
      "\n",
      "In a sense weve come to our nations capital to cash a check When\n",
      "the architects of our republic wrote the magnificent words of the\n",
      "Constitution and the Declaration of Independence they were signing a\n",
      "promissory note to which every American was to fall heir This note was a\n",
      "promise that all men  yes black men as well as white men  would be\n",
      "guaranteed the unalienable rights of life liberty and the pursuit of\n",
      "happiness\n",
      "\n",
      "It is obvious today that America has defaulted on this promissory note\n",
      "insofar as her citizens of color are concerned Instead of honoring this\n",
      "sacred obligation America has given the Negro people a bad check a\n",
      "check that has come back marked insufficient funds\n",
      "\n",
      "But we refuse to believe that the bank of justice is bankrupt We\n",
      "refuse to believe that there are insufficient funds in the great vaults of\n",
      "opportunity of this nation And so weve come to cash this check a check\n",
      "that will give us upon demand the riches of freedom and security of justice\n",
      "We have also come to his hallowed spot to remind America of the fierce\n",
      "urgency of now This is no time to engage in the luxury of cooling off or to\n",
      "take the tranquilizing drug of gradualism Now is the time to make real the\n",
      "promises of democracy Now is the time to rise from the dark and\n",
      "desolate valley of segregation to the sunlit path of racial justice Now is the\n",
      "time to lift our nation from the quicksands of racial injustice to the solid\n",
      "rock of brotherhood Now is the time to make justice a reality for all of\n",
      "Gods children\n",
      "\n",
      "It would be fatal for the nation to overlook the urgency of the moment\n",
      "This sweltering summer of the Negros legitimate discontent will not pass\n",
      "until there is an invigorating autumn of freedom and equality Nineteen\n",
      "sixty-three is not an end but a beginning Those who hoped that the Negro\n",
      "needed to blow off steam and will now be content will have a rude\n",
      "awakening if the nation returns to business as usual There will be neither\n",
      "rest nor tranquility in America until the Negro is granted his citizenship\n",
      "rights The whirlwinds of revolt will continue to shake the foundations of\n",
      "our nation until the bright day of justice emerges\n",
      "\n",
      "But there is something that I must say to my people who stand on the\n",
      "warm threshold which leads into the palace of justice In the process of\n",
      "gaining our rightful place we must not be guilty of wrongful deeds Let us\n",
      "not seek to satisfy our thirst for freedom by drinking from the cup of\n",
      "bitterness and hatred We must forever conduct our struggle on the high\n",
      "plane of dignity and discipline We must not allow our creative protest to\n",
      "degenerate into physical violence Again and again we must rise to the\n",
      "majestic heights of meeting physical force with soul force The marvelous\n",
      "new militancy which has engulfed the Negro community must not lead us to\n",
      "a distrust of all white people for many of our white brothers as evidenced\n",
      "by their presence here today have come to realize that their destiny is tied\n",
      "up with our destiny And they have come to realize that their freedom is\n",
      "inextricably bound to our freedom We cannot walk alone\n",
      "\n",
      "And as we walk we must make the pledge that we shall always\n",
      "march ahead We cannot turn back There are those who are asking the\n",
      "devotees of civil rights When will you be satisfied? We can never be\n",
      "satisfied as long as the Negro is the victim of the unspeakable horrors of\n",
      "police brutality We can never be satisfied as long as our bodies heavy\n",
      "with the fatigue of travel cannot gain lodging in the motels of the highways\n",
      "and the hotels of the cities We cannot be satisfied as long as the Negros\n",
      "basic mobility is from a smaller ghetto to a larger one We can never be\n",
      "satisfied as long as our children are stripped of their selfhood and robbed\n",
      "of their dignity by signs stating for whites only We cannot be satisfied as\n",
      "long as a Negro in Mississippi cannot vote and a Negro in New York\n",
      "believes he has nothing for which to vote No no we are not satisfied and\n",
      "we will not be satisfied until justice rolls down like waters and\n",
      "righteousness like a mighty stream\n",
      "\n",
      "I am not unmindful that some of you have come here out of great\n",
      "trials and tribulations Some of you have come fresh from narrow jail cells\n",
      "Some of you have come from areas where your quest for freedom left you\n",
      "battered by storms of persecution and staggered by the winds of police\n",
      "brutality You have been the veterans of creative suffering Continue to\n",
      "work with the faith that unearned suffering is redemptive\n",
      "\n",
      "Go back to Mississippi go back to Alabama go back to South\n",
      "Carolina go back to Georgia go back to Louisiana go back to the slums\n",
      "and ghettos of our northern cities knowing that somehow this situation can\n",
      "and will be changed\n",
      "\n",
      "Let us not wallow in the valley of despair I say to you today my\n",
      "friends  so even though we face the difficulties of today and tomorrow I\n",
      "still have a dream It is a dream deeply rooted in the American dream\n",
      "\n",
      "I have a dream that one day this nation will rise up and live out the\n",
      "true meaning of its creed We hold these truths to be self-evident that all\n",
      "men are created equal\n",
      "\n",
      "I have a dream that one day on the red hills of Georgia the sons of\n",
      "former slaves and the sons of former slave owners will be able to sit down\n",
      "together at the table of brotherhood\n",
      "\n",
      "I have a dream that one day even the state of Mississippi a state\n",
      "sweltering with the heat of injustice sweltering with the heat of oppression\n",
      "will be transformed into an oasis of freedom and justice\n",
      "\n",
      "I have a dream that my four little children will one day live in a nation\n",
      "where they will not be judged by the color of their skin but by the content\n",
      "of their character\n",
      "\n",
      "I have a dream today\n",
      "\n",
      "I have a dream that one day down in Alabama with its vicious racists\n",
      "with its governor having his lips dripping with the words of interposition\n",
      "and nullification  one day right there in Alabama little black boys and\n",
      "black girls will be able to join hands with little white boys and white girls as\n",
      "sisters and brothers\n",
      "\n",
      "I have a dream today\n",
      "\n",
      "I have a dream that one day every valley shall be exalted and every\n",
      "hill and mountain shall be made low the rough places will be made plain\n",
      "and the crooked places will be made straight and the glory of the Lord\n",
      "shall be revealed and all flesh shall see it together\n",
      "\n",
      "This is our hope This is the faith that I go back to the South with\n",
      "With this faith we will be able to hew out of the mountain of despair a\n",
      "stone of hope With this faith we will be able to transform the jangling\n",
      "discords of our nation into a beautiful symphony of brotherhood With this\n",
      "faith we will be able to work together to pray together to struggle\n",
      "together to go to jail together to stand up for freedom together knowing\n",
      "that we will be free one day\n",
      "\n",
      "This will be the day this will be the day when all of Gods children will\n",
      "be able to sing with new meaning My country tis of thee sweet land of\n",
      "liberty of thee I sing Land where my fathers died land of the Pilgrims\n",
      "pride from every mountainside let freedom ring!\n",
      "\n",
      "And if America is to be a great nation this must become true And so\n",
      "let freedom ring from the prodigious hilltops of New Hampshire Let\n",
      "freedom ring from the mighty mountains of New York Let freedom ring\n",
      "from the heightening Alleghenies of Pennsylvania\n",
      "\n",
      "Let freedom ring from the snow-capped Rockies of Colorado Let\n",
      "freedom ring from the curvaceous slopes of California\n",
      "\n",
      "But not only that let freedom ring from Stone Mountain of Georgia\n",
      "\n",
      "Let freedom ring from Lookout Mountain of Tennessee\n",
      "\n",
      "Let freedom ring from every hill and molehill of Mississippi  from\n",
      "every mountainside\n",
      "\n",
      "Let freedom ring And when this happens and when we allow\n",
      "freedom ring  when we let it ring from every village and every hamlet\n",
      "from every state and every city we will be able to speed up that day when\n",
      "all of Gods children  black men and white men Jews and Gentiles\n",
      "Protestants and Catholics  will be able to join hands and sing in the words\n",
      "of the old Negro spiritual Free at last! Free at last! Thank God Almighty\n",
      "we are free at last!\n"
     ]
    }
   ],
   "source": [
    "# strip extra characters\n",
    "replace_chars = ['.', ',', ':', ';', '\"', \"'\", \"‘\", \"’\", \"“\", \"”\", \"„\", \"‟\", \"‚\", \"‘\", \"’\", \"‹\", \"›\", \"«\", \"»\", \"ñ\", \"Ò\", \"Ó\", 'Õ', 'Ð']\n",
    "\n",
    "for c in replace_chars:\n",
    "    churchill = churchill.replace(c,'')\n",
    "    hitler = hitler.replace(c,'')\n",
    "    mandela = mandela.replace(c,'')\n",
    "    putin = putin.replace(c,'')\n",
    "    ahtisaari = ahtisaari.replace(c,'')\n",
    "    trump = trump.replace(c,'')\n",
    "    zelensky = zelensky.replace(c,'')\n",
    "print(mandela)"
   ]
  },
  {
   "cell_type": "code",
   "execution_count": 132,
   "metadata": {},
   "outputs": [],
   "source": [
    "# collective tokenization\n",
    "text = churchill + ' ' + hitler + ' ' + mandela + ' ' + putin + ' ' + ahtisaari + ' ' + trump + \" \" + zelensky\n",
    "tokens = text.split()\n",
    "tokens = [token.lower() for token in tokens if token.isalpha()]"
   ]
  },
  {
   "cell_type": "code",
   "execution_count": 133,
   "metadata": {},
   "outputs": [],
   "source": [
    "# separate tokenization\n",
    "churchill_tokens = [token.lower() for token in churchill.split() if token.isalpha()]\n",
    "hitler_tokens = [token.lower() for token in hitler.split() if token.isalpha()]\n",
    "mandela_tokens = [token.lower() for token in mandela.split() if token.isalpha()]\n",
    "putin_tokens = [token.lower() for token in putin.split() if token.isalpha()]\n",
    "ahtisaari_tokens = [token.lower() for token in ahtisaari.split() if token.isalpha()]\n",
    "trump_tokens = [token.lower() for token in trump.split() if token.isalpha()]\n",
    "zelensky_tokens = [token.lower() for token in zelensky.split() if token.isalpha()]"
   ]
  },
  {
   "cell_type": "code",
   "execution_count": 134,
   "metadata": {},
   "outputs": [
    {
     "name": "stdout",
     "output_type": "stream",
     "text": [
      "['i', 'me', 'my', 'myself', 'we', 'our', 'ours', 'ourselves', 'you', \"you're\", \"you've\", \"you'll\", \"you'd\", 'your', 'yours', 'yourself', 'yourselves', 'he', 'him', 'his', 'himself', 'she', \"she's\", 'her', 'hers', 'herself', 'it', \"it's\", 'its', 'itself', 'they', 'them', 'their', 'theirs', 'themselves', 'what', 'which', 'who', 'whom', 'this', 'that', \"that'll\", 'these', 'those', 'am', 'is', 'are', 'was', 'were', 'be', 'been', 'being', 'have', 'has', 'had', 'having', 'do', 'does', 'did', 'doing', 'a', 'an', 'the', 'and', 'but', 'if', 'or', 'because', 'as', 'until', 'while', 'of', 'at', 'by', 'for', 'with', 'about', 'against', 'between', 'into', 'through', 'during', 'before', 'after', 'above', 'below', 'to', 'from', 'up', 'down', 'in', 'out', 'on', 'off', 'over', 'under', 'again', 'further', 'then', 'once', 'here', 'there', 'when', 'where', 'why', 'how', 'all', 'any', 'both', 'each', 'few', 'more', 'most', 'other', 'some', 'such', 'no', 'nor', 'not', 'only', 'own', 'same', 'so', 'than', 'too', 'very', 's', 't', 'can', 'will', 'just', 'don', \"don't\", 'should', \"should've\", 'now', 'd', 'll', 'm', 'o', 're', 've', 'y', 'ain', 'aren', \"aren't\", 'couldn', \"couldn't\", 'didn', \"didn't\", 'doesn', \"doesn't\", 'hadn', \"hadn't\", 'hasn', \"hasn't\", 'haven', \"haven't\", 'isn', \"isn't\", 'ma', 'mightn', \"mightn't\", 'mustn', \"mustn't\", 'needn', \"needn't\", 'shan', \"shan't\", 'shouldn', \"shouldn't\", 'wasn', \"wasn't\", 'weren', \"weren't\", 'won', \"won't\", 'wouldn', \"wouldn't\"]\n"
     ]
    }
   ],
   "source": [
    "# picking stop words (so widely used words that they carry very little useful information)\n",
    "stop_words = stopwords.words('english')\n",
    "print(stop_words)"
   ]
  },
  {
   "cell_type": "markdown",
   "metadata": {},
   "source": [
    "For other language use own stop words set, for example\n",
    "\n",
    "stop_words_fi = stopwords.words('finnish')\n",
    "\n",
    "Output: ['olla', 'olen', 'olet', 'on', 'olemme', etc]"
   ]
  },
  {
   "cell_type": "code",
   "execution_count": 135,
   "metadata": {},
   "outputs": [],
   "source": [
    "# customize collective tokens by dropping stop words \n",
    "ctokens = [word for word in tokens if word not in stop_words]"
   ]
  },
  {
   "cell_type": "code",
   "execution_count": 136,
   "metadata": {},
   "outputs": [],
   "source": [
    "# customize collective tokens same way as above\n",
    "churchill_ctokens = [word for word in churchill_tokens if word not in stop_words]\n",
    "hitler_ctokens = [word for word in hitler_tokens if word not in stop_words]\n",
    "mandela_ctokens = [word for word in mandela_tokens if word not in stop_words]\n",
    "putin_ctokens = [word for word in putin_tokens if word not in stop_words]\n",
    "ahtisaari_ctokens = [word for word in ahtisaari_tokens if word not in stop_words]\n",
    "trump_ctokens = [word for word in trump_tokens if word not in stop_words]\n",
    "zelensky_ctokens = [word for word in zelensky_tokens if word not in stop_words]"
   ]
  },
  {
   "cell_type": "code",
   "execution_count": 137,
   "metadata": {},
   "outputs": [],
   "source": [
    "# lemmatize words\n",
    "# lemmatizer = WordNetLemmatizer()\n",
    "# for i in range(len(ctokens)):\n",
    "#     ctokens[i] = lemmatizer.lemmatize(ctokens[i])"
   ]
  },
  {
   "cell_type": "code",
   "execution_count": 138,
   "metadata": {},
   "outputs": [
    {
     "name": "stdout",
     "output_type": "stream",
     "text": [
      "                        almost,     7\n",
      "                          year,    39\n",
      "                        passed,     5\n",
      "                         since,    12\n",
      "                           war,    89\n",
      "                         began,    10\n",
      "                       natural,     2\n",
      "                            us,    84\n",
      "                         think,    18\n",
      "                         pause,     1\n",
      "                       journey,     1\n",
      "                     milestone,     1\n",
      "                        survey,     2\n",
      "                          dark,     3\n",
      "                          wide,     2\n",
      "                         field,     5\n",
      "                          also,    46\n",
      "                        useful,     1\n",
      "                       compare,     3\n",
      "                         first,    25\n"
     ]
    }
   ],
   "source": [
    "# collective frequency distribution\n",
    "freq = nltk.FreqDist(ctokens)\n",
    "\n",
    "# print all tokens:\n",
    "# for key, val in freq.items():\n",
    "    # print('%30s, %5d' % (str(key), val))\n",
    "\n",
    "# print first 20 tokens:\n",
    "# initialize a counter\n",
    "counter = 0\n",
    "\n",
    "# loop through items and print only the first 20\n",
    "for key, val in freq.items():\n",
    "    print('%30s, %5d' % (str(key), val))\n",
    "    counter += 1  \n",
    "    if counter == 20:  \n",
    "        break  "
   ]
  },
  {
   "cell_type": "code",
   "execution_count": 139,
   "metadata": {},
   "outputs": [
    {
     "data": {
      "text/plain": [
       "[('one', 117),\n",
       " ('world', 96),\n",
       " ('people', 90),\n",
       " ('war', 89),\n",
       " ('us', 84),\n",
       " ('german', 79),\n",
       " ('would', 68),\n",
       " ('nation', 62),\n",
       " ('great', 53),\n",
       " ('new', 50)]"
      ]
     },
     "execution_count": 139,
     "metadata": {},
     "output_type": "execute_result"
    }
   ],
   "source": [
    "# formatting the top 10 words and their counts\n",
    "freq.most_common(10)"
   ]
  },
  {
   "cell_type": "code",
   "execution_count": 140,
   "metadata": {},
   "outputs": [],
   "source": [
    "# separate frequency distribution\n",
    "churchill_freq = nltk.FreqDist(churchill_ctokens)\n",
    "hitler_freq = nltk.FreqDist(hitler_ctokens)\n",
    "mandela_freq = nltk.FreqDist(mandela_ctokens)\n",
    "putin_freq = nltk.FreqDist(putin_ctokens)\n",
    "ahtisaari_freq = nltk.FreqDist(ahtisaari_ctokens)\n",
    "trump_freq = nltk.FreqDist(trump_ctokens)\n",
    "zelensky_freq = nltk.FreqDist(zelensky_ctokens)"
   ]
  },
  {
   "cell_type": "code",
   "execution_count": null,
   "metadata": {},
   "outputs": [],
   "source": [
    "%pip install pandas\n",
    "# or pip3 install pandas in terminal\n",
    "import pandas as pd"
   ]
  },
  {
   "cell_type": "code",
   "execution_count": 142,
   "metadata": {},
   "outputs": [
    {
     "data": {
      "text/html": [
       "<div>\n",
       "<style scoped>\n",
       "    .dataframe tbody tr th:only-of-type {\n",
       "        vertical-align: middle;\n",
       "    }\n",
       "\n",
       "    .dataframe tbody tr th {\n",
       "        vertical-align: top;\n",
       "    }\n",
       "\n",
       "    .dataframe thead th {\n",
       "        text-align: right;\n",
       "    }\n",
       "</style>\n",
       "<table border=\"1\" class=\"dataframe\">\n",
       "  <thead>\n",
       "    <tr style=\"text-align: right;\">\n",
       "      <th></th>\n",
       "      <th>Churchill</th>\n",
       "      <th>Hitler</th>\n",
       "      <th>Mandela</th>\n",
       "      <th>Putin</th>\n",
       "      <th>Ahtisaari</th>\n",
       "      <th>Trump</th>\n",
       "      <th>Zelensky</th>\n",
       "    </tr>\n",
       "  </thead>\n",
       "  <tbody>\n",
       "    <tr>\n",
       "      <th>0</th>\n",
       "      <td>war - 37</td>\n",
       "      <td>german - 65</td>\n",
       "      <td>freedom - 20</td>\n",
       "      <td>one - 24</td>\n",
       "      <td>peace - 28</td>\n",
       "      <td>america - 19</td>\n",
       "      <td>thank - 15</td>\n",
       "    </tr>\n",
       "    <tr>\n",
       "      <th>1</th>\n",
       "      <td>us - 22</td>\n",
       "      <td>one - 51</td>\n",
       "      <td>negro - 13</td>\n",
       "      <td>countries - 23</td>\n",
       "      <td>conflict - 13</td>\n",
       "      <td>american - 11</td>\n",
       "      <td>ukraine - 15</td>\n",
       "    </tr>\n",
       "    <tr>\n",
       "      <th>2</th>\n",
       "      <td>air - 20</td>\n",
       "      <td>world - 48</td>\n",
       "      <td>let - 13</td>\n",
       "      <td>international - 22</td>\n",
       "      <td>work - 12</td>\n",
       "      <td>people - 10</td>\n",
       "      <td>ñ - 15</td>\n",
       "    </tr>\n",
       "    <tr>\n",
       "      <th>3</th>\n",
       "      <td>british - 17</td>\n",
       "      <td>people - 46</td>\n",
       "      <td>dream - 12</td>\n",
       "      <td>russia - 22</td>\n",
       "      <td>parties - 11</td>\n",
       "      <td>country - 9</td>\n",
       "      <td>us - 14</td>\n",
       "    </tr>\n",
       "    <tr>\n",
       "      <th>4</th>\n",
       "      <td>france - 17</td>\n",
       "      <td>nation - 40</td>\n",
       "      <td>one - 12</td>\n",
       "      <td>would - 19</td>\n",
       "      <td>also - 11</td>\n",
       "      <td>one - 8</td>\n",
       "      <td>world - 13</td>\n",
       "    </tr>\n",
       "    <tr>\n",
       "      <th>5</th>\n",
       "      <td>would - 17</td>\n",
       "      <td>germany - 40</td>\n",
       "      <td>day - 12</td>\n",
       "      <td>security - 16</td>\n",
       "      <td>people - 9</td>\n",
       "      <td>every - 7</td>\n",
       "      <td>victory - 11</td>\n",
       "    </tr>\n",
       "    <tr>\n",
       "      <th>6</th>\n",
       "      <td>upon - 16</td>\n",
       "      <td>war - 34</td>\n",
       "      <td>ring - 11</td>\n",
       "      <td>world - 16</td>\n",
       "      <td>conflicts - 9</td>\n",
       "      <td>world - 6</td>\n",
       "      <td>people - 11</td>\n",
       "    </tr>\n",
       "    <tr>\n",
       "      <th>7</th>\n",
       "      <td>one - 14</td>\n",
       "      <td>us - 34</td>\n",
       "      <td>nation - 10</td>\n",
       "      <td>weapons - 16</td>\n",
       "      <td>international - 9</td>\n",
       "      <td>great - 6</td>\n",
       "      <td>russia - 10</td>\n",
       "    </tr>\n",
       "    <tr>\n",
       "      <th>8</th>\n",
       "      <td>great - 13</td>\n",
       "      <td>time - 27</td>\n",
       "      <td>come - 10</td>\n",
       "      <td>nuclear - 16</td>\n",
       "      <td>process - 8</td>\n",
       "      <td>back - 6</td>\n",
       "      <td>battle - 10</td>\n",
       "    </tr>\n",
       "    <tr>\n",
       "      <th>9</th>\n",
       "      <td>europe - 13</td>\n",
       "      <td>great - 25</td>\n",
       "      <td>every - 10</td>\n",
       "      <td>also - 14</td>\n",
       "      <td>middle - 8</td>\n",
       "      <td>nation - 6</td>\n",
       "      <td>freedom - 9</td>\n",
       "    </tr>\n",
       "  </tbody>\n",
       "</table>\n",
       "</div>"
      ],
      "text/plain": [
       "      Churchill        Hitler       Mandela               Putin  \\\n",
       "0      war - 37   german - 65  freedom - 20            one - 24   \n",
       "1       us - 22      one - 51    negro - 13      countries - 23   \n",
       "2      air - 20    world - 48      let - 13  international - 22   \n",
       "3  british - 17   people - 46    dream - 12         russia - 22   \n",
       "4   france - 17   nation - 40      one - 12          would - 19   \n",
       "5    would - 17  germany - 40      day - 12       security - 16   \n",
       "6     upon - 16      war - 34     ring - 11          world - 16   \n",
       "7      one - 14       us - 34   nation - 10        weapons - 16   \n",
       "8    great - 13     time - 27     come - 10        nuclear - 16   \n",
       "9   europe - 13    great - 25    every - 10           also - 14   \n",
       "\n",
       "           Ahtisaari          Trump      Zelensky  \n",
       "0         peace - 28   america - 19    thank - 15  \n",
       "1      conflict - 13  american - 11  ukraine - 15  \n",
       "2          work - 12    people - 10        ñ - 15  \n",
       "3       parties - 11    country - 9       us - 14  \n",
       "4          also - 11        one - 8    world - 13  \n",
       "5         people - 9      every - 7  victory - 11  \n",
       "6      conflicts - 9      world - 6   people - 11  \n",
       "7  international - 9      great - 6   russia - 10  \n",
       "8        process - 8       back - 6   battle - 10  \n",
       "9         middle - 8     nation - 6   freedom - 9  "
      ]
     },
     "metadata": {},
     "output_type": "display_data"
    }
   ],
   "source": [
    "# function to format the top 10 words and their counts separately\n",
    "def format_top_words(freq_dist):\n",
    "    return [f'{word} - {freq}' for word, freq in freq_dist.most_common(10)]\n",
    "\n",
    "# creating a dictionary with formatted top 10 words for each person\n",
    "top_words_formatted = {\n",
    "    'Churchill': format_top_words(churchill_freq),\n",
    "    'Hitler': format_top_words(hitler_freq),\n",
    "    'Mandela': format_top_words(mandela_freq),\n",
    "    'Putin': format_top_words(putin_freq),\n",
    "    'Ahtisaari': format_top_words(ahtisaari_freq),\n",
    "    'Trump': format_top_words(trump_freq),\n",
    "    'Zelensky': format_top_words(zelensky_freq)\n",
    "}\n",
    "\n",
    "# convert the dictionary to a DataFrame\n",
    "top_words = pd.DataFrame(top_words_formatted)\n",
    "\n",
    "# display the DataFrame\n",
    "display(top_words)"
   ]
  },
  {
   "cell_type": "markdown",
   "metadata": {},
   "source": [
    "### Sentimental Analysis"
   ]
  },
  {
   "cell_type": "code",
   "execution_count": 143,
   "metadata": {},
   "outputs": [
    {
     "name": "stdout",
     "output_type": "stream",
     "text": [
      "Positive words total amount: 2006\n"
     ]
    }
   ],
   "source": [
    "# downloading positive words file from https://gist.github.com/mkulakowski2/4289437\n",
    "pos = open('positive-words.txt','r').read().split()\n",
    "print(f'Positive words total amount: {len(pos)}')"
   ]
  },
  {
   "cell_type": "code",
   "execution_count": 144,
   "metadata": {},
   "outputs": [
    {
     "name": "stdout",
     "output_type": "stream",
     "text": [
      "Negative words total amount: 4783\n"
     ]
    }
   ],
   "source": [
    "# downloading negative words file from https://gist.github.com/mkulakowski2/4289441\n",
    "neg = open('negative-words.txt','r').read().split()\n",
    "print(f'Negative words total amount: {len(neg)}')"
   ]
  },
  {
   "cell_type": "code",
   "execution_count": 145,
   "metadata": {},
   "outputs": [
    {
     "name": "stdout",
     "output_type": "stream",
     "text": [
      "20 Positive tokens:\n",
      "Word: brilliant POS\n",
      "Word: genius POS\n",
      "Word: luxury POS\n",
      "Word: well POS\n",
      "Word: strong POS\n",
      "Word: great POS\n",
      "Word: comprehensive POS\n",
      "Word: dynamic POS\n",
      "Word: favorable POS\n",
      "Word: victory POS\n",
      "Word: reasonable POS\n",
      "Word: loyalty POS\n",
      "Word: unity POS\n",
      "Word: peaceful POS\n",
      "Word: unity POS\n",
      "Word: free POS\n",
      "Word: miracle POS\n",
      "Word: strongest POS\n",
      "Word: gain POS\n",
      "Word: warmth POS\n",
      "\n",
      "20 Negative tokens:\n",
      "Word: mistaken NEG\n",
      "Word: overwhelming NEG\n",
      "Word: breaking NEG\n",
      "Word: conflict NEG\n",
      "Word: overrun NEG\n",
      "Word: dead NEG\n",
      "Word: injustice NEG\n",
      "Word: attack NEG\n",
      "Word: flawed NEG\n",
      "Word: attack NEG\n",
      "Word: deprived NEG\n",
      "Word: critic NEG\n",
      "Word: pretend NEG\n",
      "Word: death NEG\n",
      "Word: backward NEG\n",
      "Word: degenerate NEG\n",
      "Word: tanks NEG\n",
      "Word: incapable NEG\n",
      "Word: strictly NEG\n",
      "Word: lose NEG\n",
      "\n",
      "20 Neutral tokens:\n",
      "Word: imagine NEUTRAL\n",
      "Word: one NEUTRAL\n",
      "Word: witnessed NEUTRAL\n",
      "Word: individual NEUTRAL\n",
      "Word: austrian NEUTRAL\n",
      "Word: prove NEUTRAL\n",
      "Word: dreams NEUTRAL\n",
      "Word: final NEUTRAL\n",
      "Word: allow NEUTRAL\n",
      "Word: fate NEUTRAL\n",
      "Word: democratic NEUTRAL\n",
      "Word: looking NEUTRAL\n",
      "Word: social NEUTRAL\n",
      "Word: landscape NEUTRAL\n",
      "Word: considerable NEUTRAL\n",
      "Word: countries NEUTRAL\n",
      "Word: gently NEUTRAL\n",
      "Word: united NEUTRAL\n",
      "Word: impact NEUTRAL\n",
      "Word: lines NEUTRAL\n"
     ]
    }
   ],
   "source": [
    "# collective categories\n",
    "countpositive = countnegative = countneutral = counttotal = 0\n",
    "\n",
    "# to print all words:\n",
    "for token in ctokens:\n",
    "    counttotal += 1\n",
    "    cat = ''\n",
    "    if token in pos:\n",
    "        cat += 'POS'\n",
    "        countpositive += 1\n",
    "    elif token in neg:\n",
    "        cat += 'NEG'\n",
    "        countnegative += 1\n",
    "    else:\n",
    "        countneutral += 1\n",
    "#     print('Word:', token, cat)\n",
    "\n",
    "# to print 20 words for each category:\n",
    "import random\n",
    "\n",
    "# collect tokens by sentiment category\n",
    "positive_tokens = [token for token in ctokens if token in pos]\n",
    "negative_tokens = [token for token in ctokens if token in neg]\n",
    "neutral_tokens = [token for token in ctokens if token not in pos and token not in neg]\n",
    "\n",
    "# print 20 random tokens for each sentiment category\n",
    "print(\"20 Positive tokens:\")\n",
    "for token in random.sample(positive_tokens, 20):\n",
    "    print('Word:', token, 'POS')\n",
    "\n",
    "print(\"\\n20 Negative tokens:\")\n",
    "for token in random.sample(negative_tokens, 20):\n",
    "    print('Word:', token, 'NEG')\n",
    "\n",
    "print(\"\\n20 Neutral tokens:\")\n",
    "for token in random.sample(neutral_tokens, 20):\n",
    "    print('Word:', token, 'NEUTRAL')"
   ]
  },
  {
   "cell_type": "code",
   "execution_count": 146,
   "metadata": {},
   "outputs": [],
   "source": [
    "# separate categories\n",
    "# Churchill\n",
    "c_countpositive = c_countnegative = c_countneutral = c_counttotal = 0\n",
    "\n",
    "for c in churchill_ctokens:\n",
    "    c_counttotal += 1\n",
    "    cat = ''\n",
    "    if c in pos:\n",
    "        cat += 'POS'\n",
    "        c_countpositive += 1\n",
    "    elif c in neg:\n",
    "        cat += 'NEG'\n",
    "        c_countnegative += 1\n",
    "    else:\n",
    "        c_countneutral += 1\n",
    "\n",
    "# Hitler\n",
    "h_countpositive = h_countnegative = h_countneutral = h_counttotal = 0\n",
    "\n",
    "for h in hitler_ctokens:\n",
    "    h_counttotal += 1\n",
    "    cat = ''\n",
    "    if h in pos:\n",
    "        cat += 'POS'\n",
    "        h_countpositive += 1\n",
    "    elif h in neg:\n",
    "        cat += 'NEG'\n",
    "        h_countnegative += 1\n",
    "    else:\n",
    "        h_countneutral += 1\n",
    "\n",
    "# Mandela\n",
    "m_countpositive = m_countnegative = m_countneutral = m_counttotal = 0\n",
    "\n",
    "for m in mandela_ctokens:\n",
    "    m_counttotal += 1\n",
    "    cat = ''\n",
    "    if m in pos:\n",
    "        cat += 'POS'\n",
    "        m_countpositive += 1\n",
    "    elif m in neg:\n",
    "        cat += 'NEG'\n",
    "        m_countnegative += 1\n",
    "    else:\n",
    "        m_countneutral += 1\n",
    "\n",
    "# Putin\n",
    "p_countpositive = p_countnegative = p_countneutral = p_counttotal = 0\n",
    "\n",
    "for p in putin_ctokens:\n",
    "    p_counttotal += 1\n",
    "    cat = ''\n",
    "    if p in pos:\n",
    "        cat += 'POS'\n",
    "        p_countpositive += 1\n",
    "    elif p in neg:\n",
    "        cat += 'NEG'\n",
    "        p_countnegative += 1\n",
    "    else:\n",
    "        p_countneutral += 1\n",
    "\n",
    "# Ahtisaari\n",
    "a_countpositive = a_countnegative = a_countneutral = a_counttotal = 0\n",
    "\n",
    "for a in ahtisaari_ctokens:\n",
    "    a_counttotal += 1\n",
    "    cat = ''\n",
    "    if a in pos:\n",
    "        cat += 'POS'\n",
    "        a_countpositive += 1\n",
    "    elif a in neg:\n",
    "        cat += 'NEG'\n",
    "        a_countnegative += 1\n",
    "    else:\n",
    "        a_countneutral += 1\n",
    "\n",
    "# Trump\n",
    "t_countpositive = t_countnegative = t_countneutral = t_counttotal = 0\n",
    "\n",
    "for t in trump_ctokens:\n",
    "    t_counttotal += 1\n",
    "    cat = ''\n",
    "    if t in pos:\n",
    "        cat += 'POS'\n",
    "        t_countpositive += 1\n",
    "    elif t in neg:\n",
    "        cat += 'NEG'\n",
    "        t_countnegative += 1\n",
    "    else:\n",
    "        t_countneutral += 1\n",
    "\n",
    "# Zelensky\n",
    "z_countpositive = z_countnegative = z_countneutral = z_counttotal = 0\n",
    "\n",
    "for z in zelensky_ctokens:\n",
    "    z_counttotal += 1\n",
    "    cat = ''\n",
    "    if z in pos:\n",
    "        cat += 'POS'\n",
    "        z_countpositive += 1\n",
    "    elif z in neg:\n",
    "        cat += 'NEG'\n",
    "        z_countnegative += 1\n",
    "    else:\n",
    "        z_countneutral += 1"
   ]
  },
  {
   "cell_type": "code",
   "execution_count": 147,
   "metadata": {},
   "outputs": [
    {
     "name": "stdout",
     "output_type": "stream",
     "text": [
      "Collective statistics: Positive=0.08 Negative=0.06 Neutral=0.86\n",
      "Churchill: Positive=0.07 Negative=0.06 Neutral=0.87\n",
      "Hitler: Positive=0.06 Negative=0.06 Neutral=0.88\n",
      "Mandela: Positive=0.11 Negative=0.08 Neutral=0.81\n",
      "Putin: Positive=0.06 Negative=0.06 Neutral=0.88\n",
      "Ahtisaari: Positive=0.11 Negative=0.06 Neutral=0.82\n",
      "Trump: Positive=0.12 Negative=0.04 Neutral=0.85\n",
      "Zelensky: Positive=0.13 Negative=0.05 Neutral=0.82\n"
     ]
    }
   ],
   "source": [
    "# display the final count\n",
    "print('Collective statistics: Positive=%.2f Negative=%.2f Neutral=%.2f' % \n",
    "      (countpositive/counttotal, countnegative/counttotal, countneutral/counttotal))\n",
    "print('Churchill: Positive=%.2f Negative=%.2f Neutral=%.2f' % \n",
    "      (c_countpositive/c_counttotal, c_countnegative/c_counttotal, c_countneutral/c_counttotal))\n",
    "print('Hitler: Positive=%.2f Negative=%.2f Neutral=%.2f' % \n",
    "      (h_countpositive/h_counttotal, h_countnegative/h_counttotal, h_countneutral/h_counttotal))\n",
    "print('Mandela: Positive=%.2f Negative=%.2f Neutral=%.2f' % \n",
    "      (m_countpositive/m_counttotal, m_countnegative/m_counttotal, m_countneutral/m_counttotal))\n",
    "print('Putin: Positive=%.2f Negative=%.2f Neutral=%.2f' % \n",
    "      (p_countpositive/p_counttotal, p_countnegative/p_counttotal, p_countneutral/p_counttotal))\n",
    "print('Ahtisaari: Positive=%.2f Negative=%.2f Neutral=%.2f' % \n",
    "      (a_countpositive/a_counttotal, a_countnegative/a_counttotal, a_countneutral/a_counttotal))\n",
    "print('Trump: Positive=%.2f Negative=%.2f Neutral=%.2f' % \n",
    "      (t_countpositive/t_counttotal, t_countnegative/t_counttotal, t_countneutral/t_counttotal))\n",
    "print('Zelensky: Positive=%.2f Negative=%.2f Neutral=%.2f' % \n",
    "      (z_countpositive/z_counttotal, z_countnegative/z_counttotal, z_countneutral/z_counttotal))"
   ]
  },
  {
   "cell_type": "markdown",
   "metadata": {},
   "source": [
    "## Conclusion:\n",
    "\n",
    "The sentiment analysis of speeches from diverse historical figures including Winston Churchill, Adolf Hitler, Nelson Mandela, Vladimir Putin, Martti Ahtisaari, Donald Trump, and Volodymyr Zelensky reveals a nuanced spectrum of sentiments, with a predominant tilt towards neutral expressions across all speeches.\n",
    "\n",
    "### Key Findings and Trends:\n",
    "\n",
    "- Predominance of Neutral Sentiment: With neutrality accounting for 86% of the collective sentiment, the analysis underscores a general tendency towards factual or objective content within these speeches, highlighting a focus on conveying information or addressing issues directly.\n",
    "\n",
    "- Highlight on Positivity: Among the leaders analyzed, Donald Trump and Volodymyr Zelensky stand out with the highest positive sentiments at 12% and 13%, respectively. This suggests a rhetorical strategy that perhaps leans more towards optimism, resilience, or national pride, distinguishing their speeches from the others.\n",
    "\n",
    "- Mandela's Speech Analysis: Mandela’s speech exhibits a significant presence of positive sentiment (11%), alongside a notable proportion of negative sentiment (8%). This could be indicative of Mandela's rhetorical style, where he acknowledges serious challenges (reflected in negative sentiment) while also conveying hope and determination (positive sentiment).\n",
    "\n",
    "- Ahtisaari's Positive Rhetoric: Martti Ahtisaari also exhibits a high level of positive sentiment (11%), aligning closely with Mandela's scores. This similarity suggests Ahtisaari's speeches, like Mandela's, might also balance acknowledgment of challenges with a forward-looking and hopeful perspective.\n",
    "\n",
    "- Insights into Rhetorical Styles: The analysis further reveals a consistency in neutrality within speeches by Churchill, Hitler, and Putin (87-88% neutral), which could indicate a measured or formal approach, possibly a reflection of the era or contexts in which they were speaking.\n",
    "\n",
    "### Contextual Importance in Sentiment Analysis:\n",
    "\n",
    "This analysis highlights the critical role of context in interpreting sentiment analysis results. The presence of positive or negative words must be understood within the broader framework of the speaker's intent, historical circumstances, and the issues addressed in their speeches.\n",
    "\n",
    "### Limitations and Insights:\n",
    "\n",
    "- While the analysis provides quantitative insights into the emotional tones of the speeches, it also points to the limitations of sentiment analysis in capturing the full depth of complex political rhetoric.\n",
    "- The findings encourage a deeper qualitative examination to fully appreciate the nuances and implications of the language used by these influential figures.\n",
    "- The variances observed in sentiment scores across different leaders not only highlight their unique rhetorical strategies but also reflect the diverse historical and political contexts in which they operated. This analysis, therefore, provides a fascinating lens through which to examine the impact of language in leadership and politics."
   ]
  },
  {
   "cell_type": "markdown",
   "metadata": {},
   "source": [
    "-------"
   ]
  },
  {
   "cell_type": "markdown",
   "metadata": {},
   "source": [
    "Named entity recognition (NER)\n",
    "\n",
    "This process is an essential part of information extraction that allows you to automatically identify and categorize important information in text data."
   ]
  },
  {
   "cell_type": "markdown",
   "metadata": {},
   "source": [
    "Part-of-speech (POS) tagging is the process of labeling each word in a text (corpus) with its corresponding part of speech, such as noun, verb, adjective, etc. "
   ]
  },
  {
   "cell_type": "code",
   "execution_count": 148,
   "metadata": {},
   "outputs": [
    {
     "data": {
      "text/plain": [
       "[('almost', 'RB'),\n",
       " ('year', 'NN'),\n",
       " ('passed', 'VBD'),\n",
       " ('since', 'IN'),\n",
       " ('war', 'NN'),\n",
       " ('began', 'VBD'),\n",
       " ('natural', 'JJ'),\n",
       " ('us', 'PRP'),\n",
       " ('think', 'VBP'),\n",
       " ('pause', 'IN'),\n",
       " ('journey', 'NN'),\n",
       " ('milestone', 'NN'),\n",
       " ('survey', 'NN'),\n",
       " ('dark', 'JJ'),\n",
       " ('wide', 'JJ'),\n",
       " ('field', 'NN'),\n",
       " ('also', 'RB'),\n",
       " ('useful', 'JJ'),\n",
       " ('compare', 'NN')]"
      ]
     },
     "metadata": {},
     "output_type": "display_data"
    }
   ],
   "source": [
    "# token's labeling\n",
    "tagged = nltk.pos_tag(ctokens)\n",
    "\n",
    "# show first 20\n",
    "display(tagged[0:19])"
   ]
  },
  {
   "cell_type": "code",
   "execution_count": 149,
   "metadata": {},
   "outputs": [],
   "source": [
    "# pip install svgling\n",
    "import svgling"
   ]
  },
  {
   "cell_type": "code",
   "execution_count": 150,
   "metadata": {},
   "outputs": [],
   "source": [
    "# named entity recognition (NER)\n",
    "entities = nltk.chunk.ne_chunk(tagged)\n",
    "\n",
    "# to print table:\n",
    "# entities"
   ]
  },
  {
   "cell_type": "code",
   "execution_count": 151,
   "metadata": {},
   "outputs": [],
   "source": [
    "# this code should create a window displaying a graphical representation of a parsed tree\n",
    "# this requires installing tkinter, I won't do that here for now\n",
    "# from nltk.corpus import treebank\n",
    "# tree = treebank.parsed_sents('wsj_0001.mrg')[0]\n",
    "# tree.draw()"
   ]
  }
 ],
 "metadata": {
  "kernelspec": {
   "display_name": "env",
   "language": "python",
   "name": "python3"
  },
  "language_info": {
   "codemirror_mode": {
    "name": "ipython",
    "version": 3
   },
   "file_extension": ".py",
   "mimetype": "text/x-python",
   "name": "python",
   "nbconvert_exporter": "python",
   "pygments_lexer": "ipython3",
   "version": "3.11.7"
  }
 },
 "nbformat": 4,
 "nbformat_minor": 2
}
